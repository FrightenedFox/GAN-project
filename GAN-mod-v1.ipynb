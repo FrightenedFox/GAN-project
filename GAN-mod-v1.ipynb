{
 "cells": [
  {
   "cell_type": "code",
   "execution_count": 1,
   "id": "52e598af-53e0-4ba4-8a4f-d493d6b81bff",
   "metadata": {},
   "outputs": [
    {
     "name": "stdout",
     "output_type": "stream",
     "text": [
      "Populating the interactive namespace from numpy and matplotlib\n"
     ]
    }
   ],
   "source": [
    "%pylab inline\n",
    "\n",
    "import os\n",
    "import math\n",
    "\n",
    "import torchvision.transforms as transforms\n",
    "from torchvision.utils import save_image\n",
    "\n",
    "from torch.utils.data import DataLoader\n",
    "from torchvision import datasets\n",
    "from torch.autograd import Variable\n",
    "\n",
    "import torch.nn as nn\n",
    "import torch.nn.functional as F\n",
    "import torch\n",
    "\n",
    "os.makedirs(\"images\", exist_ok=True)"
   ]
  },
  {
   "cell_type": "code",
   "execution_count": 2,
   "id": "a6baa3e3-b91c-40cb-a7a0-e0020f98a07e",
   "metadata": {},
   "outputs": [],
   "source": [
    "N_EPOCHS = 2    # number of epochs of training\n",
    "BATCH_SIZE = 50   # size of the batches\n",
    "LR = 5e-5         # adam: learning rate\n",
    "B1 = 0.5          # adam: decay of first order momentum of gradient\n",
    "B2 = 0.999        # adam: decay of first order momentum of gradient\n",
    "\n",
    "N_CPU = 11         # number of cpu threads to use during batch generation\n",
    "LATENT_DIM = 100  # dimensionality of the latent space\n",
    "IMG_SIZE = 28     # size of each image dimension\n",
    "CHANNELS = 1      # number of image channels\n",
    "SAMPLE_INTERVAL = 400 # interval betwen image samples"
   ]
  },
  {
   "cell_type": "code",
   "execution_count": 3,
   "id": "b382d675-d0ec-4717-8120-cba1ec9501e4",
   "metadata": {},
   "outputs": [
    {
     "name": "stdout",
     "output_type": "stream",
     "text": [
      "CUDA: False\n"
     ]
    }
   ],
   "source": [
    "img_shape = (CHANNELS, IMG_SIZE, IMG_SIZE)\n",
    "torch.manual_seed(12345)\n",
    "cuda = True if torch.cuda.is_available() else False\n",
    "print(\"CUDA:\", cuda)"
   ]
  },
  {
   "cell_type": "code",
   "execution_count": 4,
   "id": "31eea90a-bf82-4375-a575-3b5064d57b35",
   "metadata": {},
   "outputs": [],
   "source": [
    "class Generator(nn.Module):\n",
    "    def __init__(self):\n",
    "        super(Generator, self).__init__()\n",
    "        \n",
    "        self.fc1 = nn.Linear(LATENT_DIM, 7 * 7 * 64)\n",
    "        \n",
    "        # initializing weights (maybe biases will be added later as well)\n",
    "        self.scaled_mats = torch.rand(2, 7 * 7, 4, 4, requires_grad=True)\n",
    "        self.imag_weights = torch.rand(64 * 2, requires_grad=True)\n",
    "        \n",
    "#         def block(in_feat, out_feat, normalize=True):\n",
    "#             layers = [nn.Linear(in_feat, out_feat)]\n",
    "#             if normalize:\n",
    "#                 layers.append(nn.BatchNorm1d(out_feat, 0.8))\n",
    "#             layers.append(nn.LeakyReLU(0.2, inplace=True))\n",
    "#             return layers\n",
    "\n",
    "#         self.model = nn.Sequential(\n",
    "#             *block(LATENT_DIM, 128, normalize=False),\n",
    "#             *block(128, 256),\n",
    "#             *block(256, 512),\n",
    "#             *block(512, 1024),\n",
    "#             nn.Linear(1024, int(np.prod(img_shape))),\n",
    "#             nn.Tanh()\n",
    "#         )\n",
    "\n",
    "    def forward(self, z):\n",
    "        flat_z = F.relu(self.fc1(z))\n",
    "        small_imgs = flat_z.view(flat_z.size(0), 64, 7, 7)\n",
    "        \n",
    "        # multiplying each element of the small_imgs with the corresponding matrix \n",
    "        # in the self.scaled_mats\n",
    "        big_imgs = F.relu(torch.stack([\n",
    "            torch.stack([\n",
    "                torch.cat([\n",
    "                    torch.cat([\n",
    "                        (small_imgs[batch][layer % 64][row][col] * \n",
    "                         self.scaled_mats[layer % 2][(row + 1) * (col + 1) - 1])\n",
    "                        for col in range(7)\n",
    "                    ], dim=1)\n",
    "                    for row in range(7)\n",
    "                ], dim=0)\n",
    "                for layer in range(64 * 2)\n",
    "            ])\n",
    "            for batch in range(BATCH_SIZE)\n",
    "        ]))\n",
    "        \n",
    "        weighted_img = torch.stack([\n",
    "            torch.sum(big_imgs[batch] * self.imag_weights.view(128, 1, 1), dim=0)\n",
    "            for batch in range(BATCH_SIZE)\n",
    "        ])\n",
    "\n",
    "        return weighted_img.view(weighted_img.size(0), *img_shape)\n",
    "#         img = self.model(z)\n",
    "#         img = img.view(img.size(0), *img_shape)\n",
    "#         return img"
   ]
  },
  {
   "cell_type": "code",
   "execution_count": 5,
   "id": "42418403-6cb9-494a-9548-cfb3115b1a1d",
   "metadata": {},
   "outputs": [],
   "source": [
    "class Discriminator(nn.Module):\n",
    "    def __init__(self):\n",
    "        super(Discriminator, self).__init__()\n",
    "\n",
    "        self.model = nn.Sequential(\n",
    "            nn.Linear(int(np.prod(img_shape)), 512),\n",
    "            nn.LeakyReLU(0.2, inplace=True),\n",
    "            nn.Linear(512, 256),\n",
    "            nn.LeakyReLU(0.2, inplace=True),\n",
    "            nn.Linear(256, 1),\n",
    "            nn.Sigmoid(),\n",
    "        )\n",
    "\n",
    "    def forward(self, img):\n",
    "        img_flat = img.view(img.size(0), -1)\n",
    "        validity = self.model(img_flat)\n",
    "#         print(\"validity:\\n\", validity)\n",
    "#         print(validity.shape)\n",
    "        return validity"
   ]
  },
  {
   "cell_type": "code",
   "execution_count": 6,
   "id": "ca719bfb-8a77-4b8e-8cad-7c90a7034abe",
   "metadata": {},
   "outputs": [],
   "source": [
    "# Loss function\n",
    "adversarial_loss = torch.nn.BCELoss()\n",
    "\n",
    "# Initialize generator and discriminator\n",
    "generator = Generator()\n",
    "discriminator = Discriminator()\n",
    "\n",
    "if cuda:\n",
    "    generator.cuda()\n",
    "    discriminator.cuda()\n",
    "    adversarial_loss.cuda()"
   ]
  },
  {
   "cell_type": "code",
   "execution_count": 7,
   "id": "f26c3a47-2160-41e4-90a1-d92f604a3938",
   "metadata": {},
   "outputs": [],
   "source": [
    "# Configure data loader\n",
    "# os.makedirs(\"../PyTorch/MNIST\", exist_ok=True)\n",
    "dataloader = torch.utils.data.DataLoader(\n",
    "    datasets.MNIST(\n",
    "        \"\",\n",
    "        train=True,\n",
    "        download=True,\n",
    "        transform=transforms.Compose(\n",
    "            [\n",
    "                transforms.Resize(IMG_SIZE), \n",
    "                transforms.ToTensor(), \n",
    "                transforms.Normalize([0.5], [0.5])\n",
    "            ]\n",
    "        ),\n",
    "    ),\n",
    "    batch_size=BATCH_SIZE,\n",
    "    shuffle=True,\n",
    ")"
   ]
  },
  {
   "cell_type": "code",
   "execution_count": 8,
   "id": "992f65c0-ec9d-4f6f-a0e5-fc288f477797",
   "metadata": {},
   "outputs": [],
   "source": [
    "# Optimizers\n",
    "optimizer_G = torch.optim.Adam(generator.parameters(), lr=LR, betas=(B1, B2))\n",
    "optimizer_D = torch.optim.Adam(discriminator.parameters(), lr=LR, betas=(B1, B2))\n",
    "\n",
    "Tensor = torch.cuda.FloatTensor if cuda else torch.FloatTensor"
   ]
  },
  {
   "cell_type": "code",
   "execution_count": 9,
   "id": "20796dc5-15ce-47c3-adb4-ec676f7979eb",
   "metadata": {},
   "outputs": [
    {
     "name": "stdout",
     "output_type": "stream",
     "text": [
      "gen_imgs:  torch.Size([50, 1, 28, 28])\n",
      "scaled_mats:  torch.Size([2, 49, 4, 4])\n"
     ]
    },
    {
     "data": {
      "image/png": "[encoded data removed]",
      "text/plain": [
       "<Figure size 432x288 with 1 Axes>"
      ]
     },
     "metadata": {
      "needs_background": "light"
     },
     "output_type": "display_data"
    }
   ],
   "source": [
    "z = Variable(Tensor(np.random.normal(0, 1, (BATCH_SIZE, LATENT_DIM))))\n",
    "\n",
    "generator = Generator()\n",
    "gen_imgs = generator(z)\n",
    "plt.imshow(gen_imgs[0][0].detach().numpy())\n",
    "print(\"gen_imgs: \", gen_imgs.size())\n",
    "print(\"scaled_mats: \", generator.scaled_mats.size())"
   ]
  },
  {
   "cell_type": "code",
   "execution_count": null,
   "id": "ab86a4f7-459b-4063-b56d-4c123907712f",
   "metadata": {},
   "outputs": [
    {
     "name": "stdout",
     "output_type": "stream",
     "text": [
      "1200\n",
      "0\n",
      "1\n",
      "2\n",
      "3\n"
     ]
    }
   ],
   "source": [
    "for epoch in range(N_EPOCHS):\n",
    "    print(len(dataloader))\n",
    "    for i, (imgs, _) in enumerate(dataloader):\n",
    "        print(i)\n",
    "\n",
    "        # Adversarial ground truths\n",
    "        valid = Variable(Tensor(imgs.size(0), 1).fill_(1.0), requires_grad=False)\n",
    "        fake = Variable(Tensor(imgs.size(0), 1).fill_(0.0), requires_grad=False)\n",
    "\n",
    "        # Configure input\n",
    "        real_imgs = Variable(imgs.type(Tensor))\n",
    "\n",
    "        # -----------------\n",
    "        #  Train Generator\n",
    "        # -----------------\n",
    "\n",
    "        optimizer_G.zero_grad()\n",
    "\n",
    "        # Sample noise as generator input\n",
    "        z = Variable(Tensor(np.random.normal(0, 1, (imgs.shape[0], LATENT_DIM))))\n",
    "\n",
    "        # Generate a batch of images\n",
    "        gen_imgs = generator(z)\n",
    "\n",
    "        # Loss measures generator's ability to fool the discriminator\n",
    "        g_loss = adversarial_loss(discriminator(gen_imgs), valid)\n",
    "\n",
    "        g_loss.backward()\n",
    "        optimizer_G.step()\n",
    "\n",
    "        # ---------------------\n",
    "        #  Train Discriminator\n",
    "        # ---------------------\n",
    "\n",
    "        optimizer_D.zero_grad()\n",
    "\n",
    "        # Measure discriminator's ability to classify real from generated samples\n",
    "        real_loss = adversarial_loss(discriminator(real_imgs), valid)\n",
    "        fake_loss = adversarial_loss(discriminator(gen_imgs.detach()), fake)\n",
    "        d_loss = (real_loss + fake_loss) / 2\n",
    "\n",
    "        d_loss.backward()\n",
    "        optimizer_D.step()\n",
    "\n",
    "        batches_done = epoch * len(dataloader) + i\n",
    "        if batches_done % SAMPLE_INTERVAL == 0:\n",
    "            save_image(gen_imgs.data[:25], \"images/%d.png\" % batches_done, nrow=5, normalize=True)\n",
    "        \n",
    "        if i == 100:\n",
    "            break \n",
    "    print(\n",
    "            \"[Epoch %d/%d] [D loss: %f] [G loss: %f]\"\n",
    "            % (epoch, N_EPOCHS, d_loss.item(), g_loss.item())\n",
    "        )"
   ]
  },
  {
   "cell_type": "code",
   "execution_count": 11,
   "id": "d685122d-3f2b-48cb-b652-ab6d4c167ae1",
   "metadata": {},
   "outputs": [],
   "source": [
    "save_image(gen_imgs.data[:25], \"images/%d.png\" % batches_done, nrow=5, normalize=True)"
   ]
  },
  {
   "cell_type": "code",
   "execution_count": null,
   "id": "7b6ff713-b648-430d-ab30-ed4d5366e452",
   "metadata": {},
   "outputs": [],
   "source": []
  }
 ],
 "metadata": {
  "kernelspec": {
   "display_name": "Python 3",
   "language": "python",
   "name": "python3"
  },
  "language_info": {
   "codemirror_mode": {
    "name": "ipython",
    "version": 3
   },
   "file_extension": ".py",
   "mimetype": "text/x-python",
   "name": "python",
   "nbconvert_exporter": "python",
   "pygments_lexer": "ipython3",
   "version": "3.7.10"
  }
 },
 "nbformat": 4,
 "nbformat_minor": 5
}
