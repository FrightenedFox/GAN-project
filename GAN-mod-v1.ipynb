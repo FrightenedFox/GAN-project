{
 "cells": [
  {
   "cell_type": "code",
   "execution_count": 1,
   "id": "52e598af-53e0-4ba4-8a4f-d493d6b81bff",
   "metadata": {},
   "outputs": [],
   "source": [
    "import numpy as np\n",
    "import matplotlib.pyplot as plt\n",
    "\n",
    "import os\n",
    "import math\n",
    "\n",
    "import torchvision.transforms as transforms\n",
    "from torchvision.utils import save_image\n",
    "\n",
    "from torch.utils.data import DataLoader\n",
    "from torchvision import datasets\n",
    "from torch.autograd import Variable\n",
    "\n",
    "import torch.nn as nn\n",
    "import torch.nn.functional as F\n",
    "import torch\n",
    "\n",
    "os.makedirs(\"images\", exist_ok=True)"
   ]
  },
  {
   "cell_type": "code",
   "execution_count": 2,
   "id": "a6baa3e3-b91c-40cb-a7a0-e0020f98a07e",
   "metadata": {},
   "outputs": [],
   "source": [
    "N_EPOCHS = 2    # number of epochs of training\n",
    "BATCH_SIZE = 50   # size of the batches\n",
    "LR = 1e-5         # adam: learning rate\n",
    "B1 = 0.5          # adam: decay of first order momentum of gradient\n",
    "B2 = 0.999        # adam: decay of first order momentum of gradient\n",
    "\n",
    "N_CPU = 11         # number of cpu threads to use during batch generation\n",
    "LATENT_DIM = 100  # dimensionality of the latent space\n",
    "IMG_SIZE = 28     # size of each image dimension\n",
    "CHANNELS = 1      # number of image channels\n",
    "SAMPLE_INTERVAL = 100 # interval betwen image samples"
   ]
  },
  {
   "cell_type": "code",
   "execution_count": 3,
   "id": "b382d675-d0ec-4717-8120-cba1ec9501e4",
   "metadata": {},
   "outputs": [
    {
     "name": "stdout",
     "output_type": "stream",
     "text": [
      "CUDA: False\n"
     ]
    }
   ],
   "source": [
    "img_shape = (CHANNELS, IMG_SIZE, IMG_SIZE)\n",
    "torch.manual_seed(12345)\n",
    "cuda = True if torch.cuda.is_available() else False\n",
    "print(\"CUDA:\", cuda)"
   ]
  },
  {
   "cell_type": "code",
   "execution_count": 150,
   "id": "31eea90a-bf82-4375-a575-3b5064d57b35",
   "metadata": {},
   "outputs": [],
   "source": [
    "class Generator(nn.Module):\n",
    "    def __init__(self):\n",
    "        super(Generator, self).__init__()\n",
    "        \n",
    "        self.fc1 = nn.Linear(LATENT_DIM, 128)\n",
    "        self.fc2 = nn.Linear(128, 7 * 7 * 64)\n",
    "        \n",
    "        # initializing weights (maybe biases will be added later as well)\n",
    "        self.scaled_mats = torch.normal(0, 1, size=(2, 7, 7, 4, 4), requires_grad=True)\n",
    "        self.scaled_mats = self.scaled_mats.view(1, 2, 7, 7, 4, 4)\n",
    "        self.scaled_mats = torch.repeat_interleave(self.scaled_mats, 64, dim=1)\n",
    "        \n",
    "        self.scaled_mats_bias = torch.normal(0, 1, size=(2, 7, 7, 4, 4), requires_grad=True)\n",
    "        self.scaled_mats_bias = self.scaled_mats_bias.view(1, 2, 7, 7, 4, 4)\n",
    "        self.scaled_mats_bias = torch.repeat_interleave(self.scaled_mats_bias, 64, dim=1)\n",
    "        \n",
    "        self.imag_weights = torch.normal(0, 1, size=(64 * 2, 1), requires_grad=True).view(1, 128, 1, 1)\n",
    "        \n",
    "        self.imag_weights_bias = torch.normal(0, 1, size=(64 * 2, 1), requires_grad=True).view(1, 128, 1, 1)\n",
    "        \n",
    "    def tt(self, m, n, i, j):\n",
    "        t1 = torch.arange(0, m * n, i * j).view(int(m / i), int(n / j)).repeat_interleave(i, dim=0).repeat_interleave(j, dim=1)\n",
    "        t2 = torch.arange(i * j).view(i, j).repeat(int(m / i), int(n / j))\n",
    "        return (t1 + t2).view(m * n)\n",
    "\n",
    "    def forward(self, z):\n",
    "        \n",
    "        flat_z = F.leaky_relu(self.fc1(z))\n",
    "        flat_z = F.leaky_relu(self.fc2(flat_z))\n",
    "        \n",
    "        small_imgs = flat_z.view(flat_z.size(0), 64, 7, 7, 1, 1)\n",
    "        small_imgs = small_imgs.repeat(1, 2, 1, 1, 1, 1)\n",
    "        \n",
    "        big_imgs = torch.mul(self.scaled_mats, small_imgs)\n",
    "        big_imgs = torch.add(self.scaled_mats_bias, big_imgs)\n",
    "        big_imgs = big_imgs.view(BATCH_SIZE, 128, 7 * 4 * 7 * 4).transpose(0, -1)\n",
    "        big_imgs = big_imgs[self.tt(28, 28, 4, 4)].transpose(0, -1)\n",
    "        big_imgs = F.leaky_relu(big_imgs.view(BATCH_SIZE, 128, 7 * 4, 7 * 4))\n",
    "        \n",
    "        weighted_img = torch.add(torch.mul(big_imgs, self.imag_weights), self.imag_weights_bias)\n",
    "#         weighted_img = F.softmax(torch.sum(weighted_img, dim=1))\n",
    "        weighted_img = torch.tanh(torch.sum(weighted_img, dim=1))\n",
    "\n",
    "        return weighted_img.view(weighted_img.size(0), *img_shape)\n"
   ]
  },
  {
   "cell_type": "code",
   "execution_count": 144,
   "id": "42418403-6cb9-494a-9548-cfb3115b1a1d",
   "metadata": {
    "tags": []
   },
   "outputs": [],
   "source": [
    "class Discriminator(nn.Module):\n",
    "    def __init__(self):\n",
    "        super(Discriminator, self).__init__()\n",
    "\n",
    "        self.model = nn.Sequential(\n",
    "            nn.Linear(int(np.prod(img_shape)), 512),\n",
    "            nn.LeakyReLU(0.2, inplace=True),\n",
    "            nn.Linear(512, 256),\n",
    "            nn.LeakyReLU(0.2, inplace=True),\n",
    "            nn.Linear(256, 1),\n",
    "            nn.Sigmoid(),\n",
    "        )\n",
    "\n",
    "    def forward(self, img):\n",
    "        img_flat = img.view(img.size(0), -1)\n",
    "        validity = self.model(img_flat)\n",
    "#         print(\"validity:\\n\", validity)\n",
    "#         print(validity.shape)\n",
    "        return validity"
   ]
  },
  {
   "cell_type": "code",
   "execution_count": 145,
   "id": "ca719bfb-8a77-4b8e-8cad-7c90a7034abe",
   "metadata": {
    "tags": []
   },
   "outputs": [],
   "source": [
    "# Loss function\n",
    "adversarial_loss = torch.nn.BCELoss()\n",
    "\n",
    "# Initialize generator and discriminator\n",
    "generator = Generator()\n",
    "discriminator = Discriminator()\n",
    "\n",
    "if cuda:\n",
    "    generator.cuda()\n",
    "    discriminator.cuda()\n",
    "    adversarial_loss.cuda()"
   ]
  },
  {
   "cell_type": "code",
   "execution_count": 146,
   "id": "f26c3a47-2160-41e4-90a1-d92f604a3938",
   "metadata": {
    "tags": []
   },
   "outputs": [],
   "source": [
    "# Configure data loader\n",
    "# os.makedirs(\"../PyTorch/MNIST\", exist_ok=True)\n",
    "dataloader = torch.utils.data.DataLoader(\n",
    "    datasets.MNIST(\n",
    "        \"\",\n",
    "        train=True,\n",
    "        download=True,\n",
    "        transform=transforms.Compose(\n",
    "            [\n",
    "                transforms.Resize(IMG_SIZE), \n",
    "                transforms.ToTensor(), \n",
    "                transforms.Normalize([0.5], [0.5])\n",
    "            ]\n",
    "        ),\n",
    "    ),\n",
    "    batch_size=BATCH_SIZE,\n",
    "    shuffle=True,\n",
    ")"
   ]
  },
  {
   "cell_type": "code",
   "execution_count": 147,
   "id": "992f65c0-ec9d-4f6f-a0e5-fc288f477797",
   "metadata": {
    "tags": []
   },
   "outputs": [],
   "source": [
    "# Optimizers\n",
    "optimizer_G = torch.optim.Adam(generator.parameters(), lr=LR, betas=(B1, B2))\n",
    "optimizer_D = torch.optim.Adam(discriminator.parameters(), lr=LR, betas=(B1, B2))\n",
    "\n",
    "Tensor = torch.cuda.FloatTensor if cuda else torch.FloatTensor"
   ]
  },
  {
   "cell_type": "code",
   "execution_count": 155,
   "id": "20796dc5-15ce-47c3-adb4-ec676f7979eb",
   "metadata": {},
   "outputs": [
    {
     "name": "stdout",
     "output_type": "stream",
     "text": [
      "gen_imgs:  torch.Size([50, 1, 28, 28])\n",
      "scaled_mats:  torch.Size([1, 128, 7, 7, 4, 4])\n"
     ]
    },
    {
     "data": {
      "image/png": "[encoded data removed]",
      "text/plain": [
       "<Figure size 432x288 with 1 Axes>"
      ]
     },
     "metadata": {
      "needs_background": "light"
     },
     "output_type": "display_data"
    }
   ],
   "source": [
    "z = Variable(Tensor(np.random.normal(0, 1, (BATCH_SIZE, LATENT_DIM))))\n",
    "\n",
    "generator = Generator()\n",
    "gen_imgs = generator(z)\n",
    "plt.imshow(gen_imgs[0][0].detach().numpy())\n",
    "print(\"gen_imgs: \", gen_imgs.size())\n",
    "print(\"scaled_mats: \", generator.scaled_mats.size())"
   ]
  },
  {
   "cell_type": "code",
   "execution_count": 149,
   "id": "ab86a4f7-459b-4063-b56d-4c123907712f",
   "metadata": {},
   "outputs": [
    {
     "name": "stdout",
     "output_type": "stream",
     "text": [
      "[Batch 0/2400] [D loss: 0.731780] [G loss: 0.645129]\n",
      "[Batch 100/2400] [D loss: 0.164634] [G loss: 2.115231]\n",
      "[Batch 200/2400] [D loss: 0.040977] [G loss: 3.462831]\n",
      "[Batch 300/2400] [D loss: 0.017040] [G loss: 4.363126]\n"
     ]
    },
    {
     "ename": "KeyboardInterrupt",
     "evalue": "",
     "output_type": "error",
     "traceback": [
      "\u001b[1;31m---------------------------------------------------------------------------\u001b[0m",
      "\u001b[1;31mKeyboardInterrupt\u001b[0m                         Traceback (most recent call last)",
      "\u001b[1;32m<ipython-input-149-e9b586fdf6f0>\u001b[0m in \u001b[0;36m<module>\u001b[1;34m\u001b[0m\n\u001b[0;32m     23\u001b[0m         \u001b[0mg_loss\u001b[0m \u001b[1;33m=\u001b[0m \u001b[0madversarial_loss\u001b[0m\u001b[1;33m(\u001b[0m\u001b[0mdiscriminator\u001b[0m\u001b[1;33m(\u001b[0m\u001b[0mgen_imgs\u001b[0m\u001b[1;33m)\u001b[0m\u001b[1;33m,\u001b[0m \u001b[0mvalid\u001b[0m\u001b[1;33m)\u001b[0m\u001b[1;33m\u001b[0m\u001b[1;33m\u001b[0m\u001b[0m\n\u001b[0;32m     24\u001b[0m \u001b[1;33m\u001b[0m\u001b[0m\n\u001b[1;32m---> 25\u001b[1;33m         \u001b[0mg_loss\u001b[0m\u001b[1;33m.\u001b[0m\u001b[0mbackward\u001b[0m\u001b[1;33m(\u001b[0m\u001b[0mretain_graph\u001b[0m\u001b[1;33m=\u001b[0m\u001b[1;32mTrue\u001b[0m\u001b[1;33m)\u001b[0m\u001b[1;33m\u001b[0m\u001b[1;33m\u001b[0m\u001b[0m\n\u001b[0m\u001b[0;32m     26\u001b[0m         \u001b[0moptimizer_G\u001b[0m\u001b[1;33m.\u001b[0m\u001b[0mstep\u001b[0m\u001b[1;33m(\u001b[0m\u001b[1;33m)\u001b[0m\u001b[1;33m\u001b[0m\u001b[1;33m\u001b[0m\u001b[0m\n\u001b[0;32m     27\u001b[0m \u001b[1;33m\u001b[0m\u001b[0m\n",
      "\u001b[1;32m~\\miniconda3\\envs\\PyTorch-Jupyter\\lib\\site-packages\\torch\\_tensor.py\u001b[0m in \u001b[0;36mbackward\u001b[1;34m(self, gradient, retain_graph, create_graph, inputs)\u001b[0m\n\u001b[0;32m    253\u001b[0m                 \u001b[0mcreate_graph\u001b[0m\u001b[1;33m=\u001b[0m\u001b[0mcreate_graph\u001b[0m\u001b[1;33m,\u001b[0m\u001b[1;33m\u001b[0m\u001b[1;33m\u001b[0m\u001b[0m\n\u001b[0;32m    254\u001b[0m                 inputs=inputs)\n\u001b[1;32m--> 255\u001b[1;33m         \u001b[0mtorch\u001b[0m\u001b[1;33m.\u001b[0m\u001b[0mautograd\u001b[0m\u001b[1;33m.\u001b[0m\u001b[0mbackward\u001b[0m\u001b[1;33m(\u001b[0m\u001b[0mself\u001b[0m\u001b[1;33m,\u001b[0m \u001b[0mgradient\u001b[0m\u001b[1;33m,\u001b[0m \u001b[0mretain_graph\u001b[0m\u001b[1;33m,\u001b[0m \u001b[0mcreate_graph\u001b[0m\u001b[1;33m,\u001b[0m \u001b[0minputs\u001b[0m\u001b[1;33m=\u001b[0m\u001b[0minputs\u001b[0m\u001b[1;33m)\u001b[0m\u001b[1;33m\u001b[0m\u001b[1;33m\u001b[0m\u001b[0m\n\u001b[0m\u001b[0;32m    256\u001b[0m \u001b[1;33m\u001b[0m\u001b[0m\n\u001b[0;32m    257\u001b[0m     \u001b[1;32mdef\u001b[0m \u001b[0mregister_hook\u001b[0m\u001b[1;33m(\u001b[0m\u001b[0mself\u001b[0m\u001b[1;33m,\u001b[0m \u001b[0mhook\u001b[0m\u001b[1;33m)\u001b[0m\u001b[1;33m:\u001b[0m\u001b[1;33m\u001b[0m\u001b[1;33m\u001b[0m\u001b[0m\n",
      "\u001b[1;32m~\\miniconda3\\envs\\PyTorch-Jupyter\\lib\\site-packages\\torch\\autograd\\__init__.py\u001b[0m in \u001b[0;36mbackward\u001b[1;34m(tensors, grad_tensors, retain_graph, create_graph, grad_variables, inputs)\u001b[0m\n\u001b[0;32m    147\u001b[0m     Variable._execution_engine.run_backward(\n\u001b[0;32m    148\u001b[0m         \u001b[0mtensors\u001b[0m\u001b[1;33m,\u001b[0m \u001b[0mgrad_tensors_\u001b[0m\u001b[1;33m,\u001b[0m \u001b[0mretain_graph\u001b[0m\u001b[1;33m,\u001b[0m \u001b[0mcreate_graph\u001b[0m\u001b[1;33m,\u001b[0m \u001b[0minputs\u001b[0m\u001b[1;33m,\u001b[0m\u001b[1;33m\u001b[0m\u001b[1;33m\u001b[0m\u001b[0m\n\u001b[1;32m--> 149\u001b[1;33m         allow_unreachable=True, accumulate_grad=True)  # allow_unreachable flag\n\u001b[0m\u001b[0;32m    150\u001b[0m \u001b[1;33m\u001b[0m\u001b[0m\n\u001b[0;32m    151\u001b[0m \u001b[1;33m\u001b[0m\u001b[0m\n",
      "\u001b[1;31mKeyboardInterrupt\u001b[0m: "
     ]
    }
   ],
   "source": [
    "for epoch in range(N_EPOCHS):\n",
    "    for i, (imgs, _) in enumerate(dataloader):\n",
    "        # Adversarial ground truths\n",
    "        valid = Variable(Tensor(imgs.size(0), 1).fill_(1.0), requires_grad=False)\n",
    "        fake = Variable(Tensor(imgs.size(0), 1).fill_(0.0), requires_grad=False)\n",
    "\n",
    "        # Configure input\n",
    "        real_imgs = Variable(imgs.type(Tensor))\n",
    "\n",
    "        # -----------------\n",
    "        #  Train Generator\n",
    "        # -----------------\n",
    "\n",
    "        optimizer_G.zero_grad()\n",
    "\n",
    "        # Sample noise as generator input\n",
    "        z = Variable(Tensor(np.random.normal(0, 1, (imgs.shape[0], LATENT_DIM))))\n",
    "\n",
    "        # Generate a batch of images\n",
    "        gen_imgs = generator(z)\n",
    "\n",
    "        # Loss measures generator's ability to fool the discriminator\n",
    "        g_loss = adversarial_loss(discriminator(gen_imgs), valid)\n",
    "\n",
    "        g_loss.backward(retain_graph=True)\n",
    "        optimizer_G.step()\n",
    "\n",
    "        # ---------------------\n",
    "        #  Train Discriminator\n",
    "        # ---------------------\n",
    "\n",
    "        optimizer_D.zero_grad()\n",
    "\n",
    "        # Measure discriminator's ability to classify real from generated samples\n",
    "        real_loss = adversarial_loss(discriminator(real_imgs), valid)\n",
    "        fake_loss = adversarial_loss(discriminator(gen_imgs.detach()), fake)\n",
    "        d_loss = (real_loss + fake_loss) / 2\n",
    "\n",
    "        d_loss.backward()\n",
    "        optimizer_D.step()\n",
    "\n",
    "        batches_done = epoch * len(dataloader) + i\n",
    "        if batches_done % SAMPLE_INTERVAL == 0:\n",
    "            save_image(gen_imgs.data[:25], \"images/%d.png\" % batches_done, nrow=5, normalize=True)\n",
    "            print(\n",
    "                \"[Batch %d/%d] [D loss: %f] [G loss: %f]\"\n",
    "                % (batches_done, len(dataloader)*N_EPOCHS, d_loss.item(), g_loss.item())\n",
    "            ) \n",
    "    print(\n",
    "            \"--- [Epoch %d/%d] [D loss: %f] [G loss: %f] ---\"\n",
    "            % (epoch, N_EPOCHS, d_loss.item(), g_loss.item())\n",
    "        )"
   ]
  },
  {
   "cell_type": "code",
   "execution_count": null,
   "id": "d685122d-3f2b-48cb-b652-ab6d4c167ae1",
   "metadata": {},
   "outputs": [],
   "source": [
    "save_image(gen_imgs.data[:25], \"images/%d.png\" % batches_done, nrow=5, normalize=True)"
   ]
  },
  {
   "cell_type": "code",
   "execution_count": null,
   "id": "7b6ff713-b648-430d-ab30-ed4d5366e452",
   "metadata": {},
   "outputs": [],
   "source": []
  }
 ],
 "metadata": {
  "kernelspec": {
   "display_name": "Python 3",
   "language": "python",
   "name": "python3"
  },
  "language_info": {
   "codemirror_mode": {
    "name": "ipython",
    "version": 3
   },
   "file_extension": ".py",
   "mimetype": "text/x-python",
   "name": "python",
   "nbconvert_exporter": "python",
   "pygments_lexer": "ipython3",
   "version": "3.7.10"
  }
 },
 "nbformat": 4,
 "nbformat_minor": 5
}
